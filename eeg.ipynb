{
  "nbformat": 4,
  "nbformat_minor": 0,
  "metadata": {
    "colab": {
      "name": "eeg.ipynb",
      "provenance": [],
      "collapsed_sections": []
    },
    "kernelspec": {
      "name": "python3",
      "display_name": "Python 3 (ipykernel)",
      "language": "python"
    },
    "language_info": {
      "name": "python",
      "version": "3.9.7-final"
    }
  },
  "cells": [
    {
      "source": [
        "## 1. Installing packages needed"
      ],
      "cell_type": "markdown",
      "metadata": {}
    },
    {
      "cell_type": "code",
      "source": [
        "!pip install mne\n",
        "!pip install yasa"
      ],
      "metadata": {
        "colab": {
          "base_uri": "https://localhost:8080/"
        },
        "id": "u6eL7L1y6uIB",
        "outputId": "096369d0-f9a0-4e91-db7f-06bb23d97437"
      },
      "execution_count": 2,
      "outputs": [
        {
          "output_type": "stream",
          "name": "stdout",
          "text": [
            "Requirement already satisfied: mne in /Users/richardpang/opt/anaconda3/lib/python3.9/site-packages (1.0.3)\n",
            "Requirement already satisfied: jinja2 in /Users/richardpang/opt/anaconda3/lib/python3.9/site-packages (from mne) (2.11.3)\n",
            "Requirement already satisfied: decorator in /Users/richardpang/opt/anaconda3/lib/python3.9/site-packages (from mne) (5.1.0)\n",
            "Requirement already satisfied: tqdm in /Users/richardpang/opt/anaconda3/lib/python3.9/site-packages (from mne) (4.62.3)\n",
            "Requirement already satisfied: packaging in /Users/richardpang/opt/anaconda3/lib/python3.9/site-packages (from mne) (21.0)\n",
            "Requirement already satisfied: numpy>=1.15.4 in /Users/richardpang/opt/anaconda3/lib/python3.9/site-packages (from mne) (1.20.3)\n",
            "Requirement already satisfied: pooch>=1.5 in /Users/richardpang/opt/anaconda3/lib/python3.9/site-packages (from mne) (1.6.0)\n",
            "Requirement already satisfied: scipy>=1.1.0 in /Users/richardpang/opt/anaconda3/lib/python3.9/site-packages (from mne) (1.7.1)\n",
            "Requirement already satisfied: matplotlib in /Users/richardpang/opt/anaconda3/lib/python3.9/site-packages (from mne) (3.4.3)\n",
            "Requirement already satisfied: appdirs>=1.3.0 in /Users/richardpang/opt/anaconda3/lib/python3.9/site-packages (from pooch>=1.5->mne) (1.4.4)\n",
            "Requirement already satisfied: requests>=2.19.0 in /Users/richardpang/opt/anaconda3/lib/python3.9/site-packages (from pooch>=1.5->mne) (2.26.0)\n",
            "Requirement already satisfied: pyparsing>=2.0.2 in /Users/richardpang/opt/anaconda3/lib/python3.9/site-packages (from packaging->mne) (3.0.4)\n",
            "Requirement already satisfied: MarkupSafe>=0.23 in /Users/richardpang/opt/anaconda3/lib/python3.9/site-packages (from jinja2->mne) (1.1.1)\n",
            "Requirement already satisfied: kiwisolver>=1.0.1 in /Users/richardpang/opt/anaconda3/lib/python3.9/site-packages (from matplotlib->mne) (1.3.1)\n",
            "Requirement already satisfied: cycler>=0.10 in /Users/richardpang/opt/anaconda3/lib/python3.9/site-packages (from matplotlib->mne) (0.10.0)\n",
            "Requirement already satisfied: pillow>=6.2.0 in /Users/richardpang/opt/anaconda3/lib/python3.9/site-packages (from matplotlib->mne) (8.4.0)\n",
            "Requirement already satisfied: python-dateutil>=2.7 in /Users/richardpang/opt/anaconda3/lib/python3.9/site-packages (from matplotlib->mne) (2.8.2)\n",
            "Requirement already satisfied: six in /Users/richardpang/opt/anaconda3/lib/python3.9/site-packages (from cycler>=0.10->matplotlib->mne) (1.16.0)\n",
            "Requirement already satisfied: urllib3<1.27,>=1.21.1 in /Users/richardpang/opt/anaconda3/lib/python3.9/site-packages (from requests>=2.19.0->pooch>=1.5->mne) (1.26.7)\n",
            "Requirement already satisfied: certifi>=2017.4.17 in /Users/richardpang/opt/anaconda3/lib/python3.9/site-packages (from requests>=2.19.0->pooch>=1.5->mne) (2021.10.8)\n",
            "Requirement already satisfied: idna<4,>=2.5 in /Users/richardpang/opt/anaconda3/lib/python3.9/site-packages (from requests>=2.19.0->pooch>=1.5->mne) (3.2)\n",
            "Requirement already satisfied: charset-normalizer~=2.0.0 in /Users/richardpang/opt/anaconda3/lib/python3.9/site-packages (from requests>=2.19.0->pooch>=1.5->mne) (2.0.4)\n",
            "\u001b[33mWARNING: You are using pip version 22.0.3; however, version 22.1.2 is available.\n",
            "You should consider upgrading via the '/Users/richardpang/opt/anaconda3/bin/python -m pip install --upgrade pip' command.\u001b[0m\u001b[33m\n",
            "\u001b[0mRequirement already satisfied: yasa in /Users/richardpang/opt/anaconda3/lib/python3.9/site-packages (0.6.1)\n",
            "Requirement already satisfied: numpy in /Users/richardpang/opt/anaconda3/lib/python3.9/site-packages (from yasa) (1.20.3)\n",
            "Requirement already satisfied: pandas in /Users/richardpang/opt/anaconda3/lib/python3.9/site-packages (from yasa) (1.3.4)\n",
            "Requirement already satisfied: tensorpac>=0.6.5 in /Users/richardpang/opt/anaconda3/lib/python3.9/site-packages (from yasa) (0.6.5)\n",
            "Requirement already satisfied: scikit-learn in /Users/richardpang/opt/anaconda3/lib/python3.9/site-packages (from yasa) (0.24.2)\n",
            "Requirement already satisfied: ipywidgets in /Users/richardpang/opt/anaconda3/lib/python3.9/site-packages (from yasa) (7.6.5)\n",
            "Requirement already satisfied: numba in /Users/richardpang/opt/anaconda3/lib/python3.9/site-packages (from yasa) (0.54.1)\n",
            "Requirement already satisfied: lspopt in /Users/richardpang/opt/anaconda3/lib/python3.9/site-packages (from yasa) (1.2.0)\n",
            "Requirement already satisfied: scipy in /Users/richardpang/opt/anaconda3/lib/python3.9/site-packages (from yasa) (1.7.1)\n",
            "Requirement already satisfied: mne>=0.20.0 in /Users/richardpang/opt/anaconda3/lib/python3.9/site-packages (from yasa) (1.0.3)\n",
            "Requirement already satisfied: joblib in /Users/richardpang/opt/anaconda3/lib/python3.9/site-packages (from yasa) (1.1.0)\n",
            "Requirement already satisfied: matplotlib in /Users/richardpang/opt/anaconda3/lib/python3.9/site-packages (from yasa) (3.4.3)\n",
            "Requirement already satisfied: outdated in /Users/richardpang/opt/anaconda3/lib/python3.9/site-packages (from yasa) (0.2.1)\n",
            "Requirement already satisfied: seaborn in /Users/richardpang/opt/anaconda3/lib/python3.9/site-packages (from yasa) (0.11.2)\n",
            "Requirement already satisfied: antropy in /Users/richardpang/opt/anaconda3/lib/python3.9/site-packages (from yasa) (0.1.4)\n",
            "Requirement already satisfied: pyriemann>=0.2.7 in /Users/richardpang/opt/anaconda3/lib/python3.9/site-packages (from yasa) (0.2.7)\n",
            "Requirement already satisfied: jinja2 in /Users/richardpang/opt/anaconda3/lib/python3.9/site-packages (from mne>=0.20.0->yasa) (2.11.3)\n",
            "Requirement already satisfied: decorator in /Users/richardpang/opt/anaconda3/lib/python3.9/site-packages (from mne>=0.20.0->yasa) (5.1.0)\n",
            "Requirement already satisfied: tqdm in /Users/richardpang/opt/anaconda3/lib/python3.9/site-packages (from mne>=0.20.0->yasa) (4.62.3)\n",
            "Requirement already satisfied: pooch>=1.5 in /Users/richardpang/opt/anaconda3/lib/python3.9/site-packages (from mne>=0.20.0->yasa) (1.6.0)\n",
            "Requirement already satisfied: packaging in /Users/richardpang/opt/anaconda3/lib/python3.9/site-packages (from mne>=0.20.0->yasa) (21.0)\n",
            "Requirement already satisfied: stochastic in /Users/richardpang/opt/anaconda3/lib/python3.9/site-packages (from antropy->yasa) (0.6.0)\n",
            "Requirement already satisfied: ipython>=4.0.0 in /Users/richardpang/opt/anaconda3/lib/python3.9/site-packages (from ipywidgets->yasa) (7.29.0)\n",
            "Requirement already satisfied: widgetsnbextension~=3.5.0 in /Users/richardpang/opt/anaconda3/lib/python3.9/site-packages (from ipywidgets->yasa) (3.5.1)\n",
            "Requirement already satisfied: traitlets>=4.3.1 in /Users/richardpang/opt/anaconda3/lib/python3.9/site-packages (from ipywidgets->yasa) (5.1.0)\n",
            "Requirement already satisfied: jupyterlab-widgets>=1.0.0 in /Users/richardpang/opt/anaconda3/lib/python3.9/site-packages (from ipywidgets->yasa) (1.0.0)\n",
            "Requirement already satisfied: ipykernel>=4.5.1 in /Users/richardpang/opt/anaconda3/lib/python3.9/site-packages (from ipywidgets->yasa) (6.4.1)\n",
            "Requirement already satisfied: ipython-genutils~=0.2.0 in /Users/richardpang/opt/anaconda3/lib/python3.9/site-packages (from ipywidgets->yasa) (0.2.0)\n",
            "Requirement already satisfied: nbformat>=4.2.0 in /Users/richardpang/opt/anaconda3/lib/python3.9/site-packages (from ipywidgets->yasa) (5.1.3)\n",
            "Requirement already satisfied: six in /Users/richardpang/opt/anaconda3/lib/python3.9/site-packages (from lspopt->yasa) (1.16.0)\n",
            "Requirement already satisfied: pillow>=6.2.0 in /Users/richardpang/opt/anaconda3/lib/python3.9/site-packages (from matplotlib->yasa) (8.4.0)\n",
            "Requirement already satisfied: kiwisolver>=1.0.1 in /Users/richardpang/opt/anaconda3/lib/python3.9/site-packages (from matplotlib->yasa) (1.3.1)\n",
            "Requirement already satisfied: python-dateutil>=2.7 in /Users/richardpang/opt/anaconda3/lib/python3.9/site-packages (from matplotlib->yasa) (2.8.2)\n",
            "Requirement already satisfied: pyparsing>=2.2.1 in /Users/richardpang/opt/anaconda3/lib/python3.9/site-packages (from matplotlib->yasa) (3.0.4)\n",
            "Requirement already satisfied: cycler>=0.10 in /Users/richardpang/opt/anaconda3/lib/python3.9/site-packages (from matplotlib->yasa) (0.10.0)\n",
            "Requirement already satisfied: setuptools in /Users/richardpang/opt/anaconda3/lib/python3.9/site-packages (from numba->yasa) (60.8.0)\n",
            "Requirement already satisfied: llvmlite<0.38,>=0.37.0rc1 in /Users/richardpang/opt/anaconda3/lib/python3.9/site-packages (from numba->yasa) (0.37.0)\n",
            "Requirement already satisfied: requests in /Users/richardpang/opt/anaconda3/lib/python3.9/site-packages (from outdated->yasa) (2.26.0)\n",
            "Requirement already satisfied: littleutils in /Users/richardpang/opt/anaconda3/lib/python3.9/site-packages (from outdated->yasa) (0.2.2)\n",
            "Requirement already satisfied: pytz>=2017.3 in /Users/richardpang/opt/anaconda3/lib/python3.9/site-packages (from pandas->yasa) (2021.3)\n",
            "Requirement already satisfied: threadpoolctl>=2.0.0 in /Users/richardpang/opt/anaconda3/lib/python3.9/site-packages (from scikit-learn->yasa) (2.2.0)\n",
            "Requirement already satisfied: appnope in /Users/richardpang/opt/anaconda3/lib/python3.9/site-packages (from ipykernel>=4.5.1->ipywidgets->yasa) (0.1.2)\n",
            "Requirement already satisfied: matplotlib-inline<0.2.0,>=0.1.0 in /Users/richardpang/opt/anaconda3/lib/python3.9/site-packages (from ipykernel>=4.5.1->ipywidgets->yasa) (0.1.2)\n",
            "Requirement already satisfied: tornado<7.0,>=4.2 in /Users/richardpang/opt/anaconda3/lib/python3.9/site-packages (from ipykernel>=4.5.1->ipywidgets->yasa) (6.1)\n",
            "Requirement already satisfied: debugpy<2.0,>=1.0.0 in /Users/richardpang/opt/anaconda3/lib/python3.9/site-packages (from ipykernel>=4.5.1->ipywidgets->yasa) (1.4.1)\n",
            "Requirement already satisfied: jupyter-client<8.0 in /Users/richardpang/opt/anaconda3/lib/python3.9/site-packages (from ipykernel>=4.5.1->ipywidgets->yasa) (6.1.12)\n",
            "Requirement already satisfied: pickleshare in /Users/richardpang/opt/anaconda3/lib/python3.9/site-packages (from ipython>=4.0.0->ipywidgets->yasa) (0.7.5)\n",
            "Requirement already satisfied: pygments in /Users/richardpang/opt/anaconda3/lib/python3.9/site-packages (from ipython>=4.0.0->ipywidgets->yasa) (2.10.0)\n",
            "Requirement already satisfied: pexpect>4.3 in /Users/richardpang/opt/anaconda3/lib/python3.9/site-packages (from ipython>=4.0.0->ipywidgets->yasa) (4.8.0)\n",
            "Requirement already satisfied: prompt-toolkit!=3.0.0,!=3.0.1,<3.1.0,>=2.0.0 in /Users/richardpang/opt/anaconda3/lib/python3.9/site-packages (from ipython>=4.0.0->ipywidgets->yasa) (3.0.20)\n",
            "Requirement already satisfied: backcall in /Users/richardpang/opt/anaconda3/lib/python3.9/site-packages (from ipython>=4.0.0->ipywidgets->yasa) (0.2.0)\n",
            "Requirement already satisfied: jedi>=0.16 in /Users/richardpang/opt/anaconda3/lib/python3.9/site-packages (from ipython>=4.0.0->ipywidgets->yasa) (0.18.0)\n",
            "Requirement already satisfied: jupyter-core in /Users/richardpang/opt/anaconda3/lib/python3.9/site-packages (from nbformat>=4.2.0->ipywidgets->yasa) (4.8.1)\n",
            "Requirement already satisfied: jsonschema!=2.5.0,>=2.4 in /Users/richardpang/opt/anaconda3/lib/python3.9/site-packages (from nbformat>=4.2.0->ipywidgets->yasa) (3.2.0)\n",
            "Requirement already satisfied: appdirs>=1.3.0 in /Users/richardpang/opt/anaconda3/lib/python3.9/site-packages (from pooch>=1.5->mne>=0.20.0->yasa) (1.4.4)\n",
            "Requirement already satisfied: idna<4,>=2.5 in /Users/richardpang/opt/anaconda3/lib/python3.9/site-packages (from requests->outdated->yasa) (3.2)\n",
            "Requirement already satisfied: certifi>=2017.4.17 in /Users/richardpang/opt/anaconda3/lib/python3.9/site-packages (from requests->outdated->yasa) (2021.10.8)\n",
            "Requirement already satisfied: urllib3<1.27,>=1.21.1 in /Users/richardpang/opt/anaconda3/lib/python3.9/site-packages (from requests->outdated->yasa) (1.26.7)\n",
            "Requirement already satisfied: charset-normalizer~=2.0.0 in /Users/richardpang/opt/anaconda3/lib/python3.9/site-packages (from requests->outdated->yasa) (2.0.4)\n",
            "Requirement already satisfied: notebook>=4.4.1 in /Users/richardpang/opt/anaconda3/lib/python3.9/site-packages (from widgetsnbextension~=3.5.0->ipywidgets->yasa) (6.4.5)\n",
            "Requirement already satisfied: MarkupSafe>=0.23 in /Users/richardpang/opt/anaconda3/lib/python3.9/site-packages (from jinja2->mne>=0.20.0->yasa) (1.1.1)\n",
            "Requirement already satisfied: parso<0.9.0,>=0.8.0 in /Users/richardpang/opt/anaconda3/lib/python3.9/site-packages (from jedi>=0.16->ipython>=4.0.0->ipywidgets->yasa) (0.8.2)\n",
            "Requirement already satisfied: pyrsistent>=0.14.0 in /Users/richardpang/opt/anaconda3/lib/python3.9/site-packages (from jsonschema!=2.5.0,>=2.4->nbformat>=4.2.0->ipywidgets->yasa) (0.18.0)\n",
            "Requirement already satisfied: attrs>=17.4.0 in /Users/richardpang/opt/anaconda3/lib/python3.9/site-packages (from jsonschema!=2.5.0,>=2.4->nbformat>=4.2.0->ipywidgets->yasa) (21.2.0)\n",
            "Requirement already satisfied: pyzmq>=13 in /Users/richardpang/opt/anaconda3/lib/python3.9/site-packages (from jupyter-client<8.0->ipykernel>=4.5.1->ipywidgets->yasa) (22.2.1)\n",
            "Requirement already satisfied: nbconvert in /Users/richardpang/opt/anaconda3/lib/python3.9/site-packages (from notebook>=4.4.1->widgetsnbextension~=3.5.0->ipywidgets->yasa) (6.1.0)\n",
            "Requirement already satisfied: argon2-cffi in /Users/richardpang/opt/anaconda3/lib/python3.9/site-packages (from notebook>=4.4.1->widgetsnbextension~=3.5.0->ipywidgets->yasa) (20.1.0)\n",
            "Requirement already satisfied: Send2Trash>=1.5.0 in /Users/richardpang/opt/anaconda3/lib/python3.9/site-packages (from notebook>=4.4.1->widgetsnbextension~=3.5.0->ipywidgets->yasa) (1.8.0)\n",
            "Requirement already satisfied: prometheus-client in /Users/richardpang/opt/anaconda3/lib/python3.9/site-packages (from notebook>=4.4.1->widgetsnbextension~=3.5.0->ipywidgets->yasa) (0.11.0)\n",
            "Requirement already satisfied: terminado>=0.8.3 in /Users/richardpang/opt/anaconda3/lib/python3.9/site-packages (from notebook>=4.4.1->widgetsnbextension~=3.5.0->ipywidgets->yasa) (0.9.4)\n",
            "Requirement already satisfied: ptyprocess>=0.5 in /Users/richardpang/opt/anaconda3/lib/python3.9/site-packages (from pexpect>4.3->ipython>=4.0.0->ipywidgets->yasa) (0.7.0)\n",
            "Requirement already satisfied: wcwidth in /Users/richardpang/opt/anaconda3/lib/python3.9/site-packages (from prompt-toolkit!=3.0.0,!=3.0.1,<3.1.0,>=2.0.0->ipython>=4.0.0->ipywidgets->yasa) (0.2.5)\n",
            "Requirement already satisfied: cffi>=1.0.0 in /Users/richardpang/opt/anaconda3/lib/python3.9/site-packages (from argon2-cffi->notebook>=4.4.1->widgetsnbextension~=3.5.0->ipywidgets->yasa) (1.14.6)\n",
            "Requirement already satisfied: jupyterlab-pygments in /Users/richardpang/opt/anaconda3/lib/python3.9/site-packages (from nbconvert->notebook>=4.4.1->widgetsnbextension~=3.5.0->ipywidgets->yasa) (0.1.2)\n",
            "Requirement already satisfied: mistune<2,>=0.8.1 in /Users/richardpang/opt/anaconda3/lib/python3.9/site-packages (from nbconvert->notebook>=4.4.1->widgetsnbextension~=3.5.0->ipywidgets->yasa) (0.8.4)\n",
            "Requirement already satisfied: entrypoints>=0.2.2 in /Users/richardpang/opt/anaconda3/lib/python3.9/site-packages (from nbconvert->notebook>=4.4.1->widgetsnbextension~=3.5.0->ipywidgets->yasa) (0.3)\n",
            "Requirement already satisfied: bleach in /Users/richardpang/opt/anaconda3/lib/python3.9/site-packages (from nbconvert->notebook>=4.4.1->widgetsnbextension~=3.5.0->ipywidgets->yasa) (4.0.0)\n",
            "Requirement already satisfied: nbclient<0.6.0,>=0.5.0 in /Users/richardpang/opt/anaconda3/lib/python3.9/site-packages (from nbconvert->notebook>=4.4.1->widgetsnbextension~=3.5.0->ipywidgets->yasa) (0.5.3)\n",
            "Requirement already satisfied: pandocfilters>=1.4.1 in /Users/richardpang/opt/anaconda3/lib/python3.9/site-packages (from nbconvert->notebook>=4.4.1->widgetsnbextension~=3.5.0->ipywidgets->yasa) (1.4.3)\n",
            "Requirement already satisfied: defusedxml in /Users/richardpang/opt/anaconda3/lib/python3.9/site-packages (from nbconvert->notebook>=4.4.1->widgetsnbextension~=3.5.0->ipywidgets->yasa) (0.7.1)\n",
            "Requirement already satisfied: testpath in /Users/richardpang/opt/anaconda3/lib/python3.9/site-packages (from nbconvert->notebook>=4.4.1->widgetsnbextension~=3.5.0->ipywidgets->yasa) (0.5.0)\n",
            "Requirement already satisfied: pycparser in /Users/richardpang/opt/anaconda3/lib/python3.9/site-packages (from cffi>=1.0.0->argon2-cffi->notebook>=4.4.1->widgetsnbextension~=3.5.0->ipywidgets->yasa) (2.20)\n",
            "Requirement already satisfied: async-generator in /Users/richardpang/opt/anaconda3/lib/python3.9/site-packages (from nbclient<0.6.0,>=0.5.0->nbconvert->notebook>=4.4.1->widgetsnbextension~=3.5.0->ipywidgets->yasa) (1.10)\n",
            "Requirement already satisfied: nest-asyncio in /Users/richardpang/opt/anaconda3/lib/python3.9/site-packages (from nbclient<0.6.0,>=0.5.0->nbconvert->notebook>=4.4.1->widgetsnbextension~=3.5.0->ipywidgets->yasa) (1.5.1)\n",
            "Requirement already satisfied: webencodings in /Users/richardpang/opt/anaconda3/lib/python3.9/site-packages (from bleach->nbconvert->notebook>=4.4.1->widgetsnbextension~=3.5.0->ipywidgets->yasa) (0.5.1)\n",
            "\u001b[33mWARNING: You are using pip version 22.0.3; however, version 22.1.2 is available.\n",
            "You should consider upgrading via the '/Users/richardpang/opt/anaconda3/bin/python -m pip install --upgrade pip' command.\u001b[0m\u001b[33m\n",
            "\u001b[0m"
          ]
        }
      ]
    },
    {
      "cell_type": "code",
      "execution_count": 1,
      "metadata": {
        "id": "rpnNnkguAYq_"
      },
      "outputs": [],
      "source": [
        "import os\n",
        "import numpy as np\n",
        "import pandas as pd\n",
        "import mne\n",
        "import matplotlib.pyplot as plt\n",
        "import xml.etree.ElementTree\n",
        "from xml.etree.ElementTree import parse\n",
        "from scipy import signal\n",
        "from scipy.signal import welch\n",
        "import seaborn as sns\n",
        "import yasa\n",
        "%matplotlib qt"
      ]
    },
    {
      "source": [
        "## 2.1 Data Loading and Visualizing\n",
        "### The raw data is an edf file downloaded from the EEG Motor Movement/Imagery Dataset. You may find the dataset here: https://www.physionet.org/content/eegmmidb/1.0.0/. Noted that the data contains 64 channels and the sampling frequency is 160 Hz, as indicated below. "
      ],
      "cell_type": "markdown",
      "metadata": {}
    },
    {
      "cell_type": "code",
      "source": [
        "raw = mne.io.read_raw_edf('data/S001R01.edf')\n",
        "raw.pick_types(eeg=True)\n",
        "raw.plot(start=20,duration=1)\n",
        "plt.show()"
      ],
      "metadata": {
        "colab": {
          "base_uri": "https://localhost:8080/",
          "height": 311
        },
        "id": "TL9XvUyM6rpe",
        "outputId": "8222e613-b6a0-4775-c64f-456184fd8f11"
      },
      "execution_count": 2,
      "outputs": [
        {
          "output_type": "stream",
          "name": "stdout",
          "text": [
            "Extracting EDF parameters from /Users/richardpang/Desktop/eeg_analysis/data/S001R01.edf...\n",
            "EDF file detected\n",
            "Setting channel info structure...\n",
            "Creating raw.info structure...\n",
            "Using matplotlib as 2D backend.\n",
            "Opening raw-browser...\n",
            "Closing raw-browser...\n",
            "Channels marked as bad:\n",
            "none\n"
          ]
        }
      ]
    },
    {
      "source": [
        "### The plot will come out in a separate window, so I make a screenshot and attach it here for convenience. The actual plot is interactive, not just an image. "
      ],
      "cell_type": "markdown",
      "metadata": {}
    },
    {
      "source": [
        "<img src=\"data/raw_data.png\" alt=\"drawing\" width=\"400\"/>"
      ],
      "cell_type": "markdown",
      "metadata": {}
    },
    {
      "source": [
        "## 2.2 Information about the raw data"
      ],
      "cell_type": "markdown",
      "metadata": {}
    },
    {
      "cell_type": "code",
      "execution_count": 3,
      "metadata": {},
      "outputs": [
        {
          "output_type": "stream",
          "name": "stdout",
          "text": [
            "Chan = ['Fc5.', 'Fc3.', 'Fc1.', 'Fcz.', 'Fc2.', 'Fc4.', 'Fc6.', 'C5..', 'C3..', 'C1..', 'Cz..', 'C2..', 'C4..', 'C6..', 'Cp5.', 'Cp3.', 'Cp1.', 'Cpz.', 'Cp2.', 'Cp4.', 'Cp6.', 'Fp1.', 'Fpz.', 'Fp2.', 'Af7.', 'Af3.', 'Afz.', 'Af4.', 'Af8.', 'F7..', 'F5..', 'F3..', 'F1..', 'Fz..', 'F2..', 'F4..', 'F6..', 'F8..', 'Ft7.', 'Ft8.', 'T7..', 'T8..', 'T9..', 'T10.', 'Tp7.', 'Tp8.', 'P7..', 'P5..', 'P3..', 'P1..', 'Pz..', 'P2..', 'P4..', 'P6..', 'P8..', 'Po7.', 'Po3.', 'Poz.', 'Po4.', 'Po8.', 'O1..', 'Oz..', 'O2..', 'Iz..']\nSampling frequency = 160.0 Hz\nData shape = (64, 9760)\n"
          ]
        }
      ],
      "source": [
        "# Extract the data and convert from V to uV\n",
        "data = raw.get_data(units=\"uV\")\n",
        "sf = raw.info['sfreq']\n",
        "chan = raw.ch_names\n",
        "\n",
        "# Let's have a look at the data\n",
        "print('Chan =', chan)\n",
        "print('Sampling frequency =', sf, 'Hz')\n",
        "print('Data shape =', data.shape)"
      ]
    },
    {
      "cell_type": "code",
      "execution_count": 4,
      "metadata": {},
      "outputs": [
        {
          "output_type": "stream",
          "name": "stdout",
          "text": [
            "The actual data is just a matrix array!\n\n [[-1.6e-05 -5.6e-05 -5.5e-05 ...  0.0e+00  0.0e+00  0.0e+00]\n [-2.9e-05 -5.4e-05 -5.5e-05 ...  0.0e+00  0.0e+00  0.0e+00]\n [ 2.0e-06 -2.7e-05 -2.9e-05 ...  0.0e+00  0.0e+00  0.0e+00]\n ...\n [-2.1e-05 -1.2e-05  2.0e-06 ...  0.0e+00  0.0e+00  0.0e+00]\n [-1.1e-05  1.0e-06  1.8e-05 ...  0.0e+00  0.0e+00  0.0e+00]\n [ 1.5e-05  2.1e-05  3.5e-05 ...  0.0e+00  0.0e+00  0.0e+00]]\n\n"
          ]
        }
      ],
      "source": [
        "print('The actual data is just a matrix array!\\n\\n {}\\n'.format(raw.get_data()))"
      ]
    },
    {
      "cell_type": "code",
      "source": [
        "raw.info"
      ],
      "metadata": {
        "id": "lkJE60i6Ao6V"
      },
      "execution_count": 5,
      "outputs": [
        {
          "output_type": "execute_result",
          "data": {
            "text/plain": [
              "<Info | 7 non-empty values\n",
              " bads: []\n",
              " ch_names: Fc5., Fc3., Fc1., Fcz., Fc2., Fc4., Fc6., C5.., C3.., C1.., ...\n",
              " chs: 64 EEG\n",
              " custom_ref_applied: False\n",
              " highpass: 0.0 Hz\n",
              " lowpass: 80.0 Hz\n",
              " meas_date: 2009-08-12 16:15:00 UTC\n",
              " nchan: 64\n",
              " projs: []\n",
              " sfreq: 160.0 Hz\n",
              ">"
            ],
            "text/html": "<table class=\"table table-hover table-striped table-sm table-responsive small\">\n    <tr>\n        <th>Measurement date</th>\n        \n        <td>August 12, 2009  16:15:00 GMT</td>\n        \n    </tr>\n    <tr>\n        <th>Experimenter</th>\n        \n        <td>Unknown</td>\n        \n    </tr>\n        <th>Participant</th>\n        \n        <td>Unknown</td>\n        \n    </tr>\n    <tr>\n        <th>Digitized points</th>\n        \n        <td>0 points</td>\n        \n    </tr>\n    <tr>\n        <th>Good channels</th>\n        <td>64 EEG</td>\n    </tr>\n    <tr>\n        <th>Bad channels</th>\n        <td>None</td>\n    </tr>\n    <tr>\n        <th>EOG channels</th>\n        <td>Not available</td>\n    </tr>\n    <tr>\n        <th>ECG channels</th>\n        <td>Not available</td>\n    \n    <tr>\n        <th>Sampling frequency</th>\n        <td>160.00 Hz</td>\n    </tr>\n    \n    \n    <tr>\n        <th>Highpass</th>\n        <td>0.00 Hz</td>\n    </tr>\n    \n    \n    <tr>\n        <th>Lowpass</th>\n        <td>80.00 Hz</td>\n    </tr>\n    \n    \n</table>"
          },
          "metadata": {},
          "execution_count": 5
        }
      ]
    },
    {
      "source": [
        "## 3. Plot the PSD of one channel using the welch function"
      ],
      "cell_type": "markdown",
      "metadata": {}
    },
    {
      "source": [
        "### 3.1 The window size (win) will affect how much detail is included in the PSD. A larger win will reveal more specificity, while a smaller win will make for less variations"
      ],
      "cell_type": "markdown",
      "metadata": {}
    },
    {
      "cell_type": "code",
      "execution_count": 6,
      "metadata": {},
      "outputs": [
        {
          "output_type": "stream",
          "name": "stdout",
          "text": [
            "(321,) (64, 321)\n"
          ]
        }
      ],
      "source": [
        "win = int(4 * sf)  # Window size is set to 4 seconds\n",
        "freqs, psd = welch(data, sf, nperseg=win, average='median')  # Works with single or multi-channel data\n",
        "# freqs, psd = welch(data, sf, average='median')  # Works with single or multi-channel data\n",
        "\n",
        "print(freqs.shape, psd.shape)  # psd has shape (n_channels, n_frequencies)\n",
        "\n",
        "# Plot\n",
        "plt.plot(freqs, psd[1], 'k', lw=2)\n",
        "plt.fill_between(freqs, psd[1], cmap='Spectral')\n",
        "plt.xlim(0, 80)\n",
        "plt.yscale('log')\n",
        "sns.despine()\n",
        "plt.title(chan[1])\n",
        "plt.xlabel('Frequency [Hz]')\n",
        "plt.ylabel('PSD log($uV^2$/Hz)');"
      ]
    },
    {
      "source": [
        "The PSD with a win of 1 * 160 = 160:"
      ],
      "cell_type": "markdown",
      "metadata": {}
    },
    {
      "source": [
        " <img src=\"data/win_160.png\" alt=\"drawing\" width=\"400\"/>"
      ],
      "cell_type": "markdown",
      "metadata": {}
    },
    {
      "source": [
        "The PSD with a win of 4 * 160 = 640:"
      ],
      "cell_type": "markdown",
      "metadata": {}
    },
    {
      "source": [
        " <img src=\"data/win_640.png\" alt=\"drawing\" width=\"400\"/>"
      ],
      "cell_type": "markdown",
      "metadata": {}
    },
    {
      "source": [
        "### 3.2 The calculation of bands power are largely dependent on the window size as well. As indicated in the documentation of yasa library, I use win = int(4 * sf) = 640 in this numerical analysis. "
      ],
      "cell_type": "markdown",
      "metadata": {}
    },
    {
      "source": [
        "## 4.1 Calculate band powers from PSD (relative and absolute)"
      ],
      "cell_type": "markdown",
      "metadata": {}
    },
    {
      "source": [
        "#### Here are the range of each band, we need to make sure the range of Delta, Theta, etc. are consistent when comparing results obtained here with the results obtained somewhere else. The range of each band is shown below."
      ],
      "cell_type": "markdown",
      "metadata": {}
    },
    {
      "cell_type": "code",
      "execution_count": 7,
      "metadata": {},
      "outputs": [],
      "source": [
        "bands=[0.5, 4, 'Delta', 4, 8, 'Theta', 8, 12, 'Alpha', 12, 16, 'Sigma', 16, 30, 'Beta', 30, 40, 'Gamma']"
      ]
    },
    {
      "source": [
        "#### Yasa is a neuroscience package developed from UC Berkley. After doing some research, I believe this is the easiest way to compute the band power. <br> </br> Relative band power refers to the ratio of these bands in the raw data, absolute band power stands for the absolute value, in which the unit is uV^2/Hz."
      ],
      "cell_type": "markdown",
      "metadata": {}
    },
    {
      "source": [
        "yasa.bandpower_from_psd(psd, freqs, ch_names=chan)"
      ],
      "cell_type": "code",
      "metadata": {},
      "execution_count": 8,
      "outputs": [
        {
          "output_type": "execute_result",
          "data": {
            "text/plain": [
              "    Chan     Delta     Theta     Alpha     Sigma      Beta     Gamma  \\\n",
              "0   Fc5.  0.546720  0.188663  0.081719  0.071354  0.086720  0.024824   \n",
              "1   Fc3.  0.553381  0.186151  0.088004  0.079254  0.075679  0.017531   \n",
              "2   Fc1.  0.577314  0.180922  0.088535  0.069158  0.068330  0.015740   \n",
              "3   Fcz.  0.625901  0.160527  0.073067  0.059309  0.067279  0.013917   \n",
              "4   Fc2.  0.638252  0.153374  0.070831  0.061820  0.061709  0.014013   \n",
              "..   ...       ...       ...       ...       ...       ...       ...   \n",
              "59  Po8.  0.611308  0.128695  0.089872  0.074769  0.075307  0.020049   \n",
              "60  O1..  0.551645  0.133374  0.107755  0.091970  0.102906  0.012351   \n",
              "61  Oz..  0.590588  0.124811  0.089765  0.078538  0.100867  0.015432   \n",
              "62  O2..  0.616492  0.120480  0.085481  0.067933  0.093260  0.016354   \n",
              "63  Iz..  0.518119  0.134041  0.100395  0.080367  0.134792  0.032286   \n",
              "\n",
              "    TotalAbsPow  FreqRes  Relative  \n",
              "0   1333.560137     0.25      True  \n",
              "1   1591.182522     0.25      True  \n",
              "2   1711.810271     0.25      True  \n",
              "3   1837.897807     0.25      True  \n",
              "4   1706.774518     0.25      True  \n",
              "..          ...      ...       ...  \n",
              "59  1463.046097     0.25      True  \n",
              "60  1852.322341     0.25      True  \n",
              "61  1840.485750     0.25      True  \n",
              "62  1992.397458     0.25      True  \n",
              "63  1728.998201     0.25      True  \n",
              "\n",
              "[64 rows x 10 columns]"
            ],
            "text/html": "<div>\n<style scoped>\n    .dataframe tbody tr th:only-of-type {\n        vertical-align: middle;\n    }\n\n    .dataframe tbody tr th {\n        vertical-align: top;\n    }\n\n    .dataframe thead th {\n        text-align: right;\n    }\n</style>\n<table border=\"1\" class=\"dataframe\">\n  <thead>\n    <tr style=\"text-align: right;\">\n      <th></th>\n      <th>Chan</th>\n      <th>Delta</th>\n      <th>Theta</th>\n      <th>Alpha</th>\n      <th>Sigma</th>\n      <th>Beta</th>\n      <th>Gamma</th>\n      <th>TotalAbsPow</th>\n      <th>FreqRes</th>\n      <th>Relative</th>\n    </tr>\n  </thead>\n  <tbody>\n    <tr>\n      <th>0</th>\n      <td>Fc5.</td>\n      <td>0.546720</td>\n      <td>0.188663</td>\n      <td>0.081719</td>\n      <td>0.071354</td>\n      <td>0.086720</td>\n      <td>0.024824</td>\n      <td>1333.560137</td>\n      <td>0.25</td>\n      <td>True</td>\n    </tr>\n    <tr>\n      <th>1</th>\n      <td>Fc3.</td>\n      <td>0.553381</td>\n      <td>0.186151</td>\n      <td>0.088004</td>\n      <td>0.079254</td>\n      <td>0.075679</td>\n      <td>0.017531</td>\n      <td>1591.182522</td>\n      <td>0.25</td>\n      <td>True</td>\n    </tr>\n    <tr>\n      <th>2</th>\n      <td>Fc1.</td>\n      <td>0.577314</td>\n      <td>0.180922</td>\n      <td>0.088535</td>\n      <td>0.069158</td>\n      <td>0.068330</td>\n      <td>0.015740</td>\n      <td>1711.810271</td>\n      <td>0.25</td>\n      <td>True</td>\n    </tr>\n    <tr>\n      <th>3</th>\n      <td>Fcz.</td>\n      <td>0.625901</td>\n      <td>0.160527</td>\n      <td>0.073067</td>\n      <td>0.059309</td>\n      <td>0.067279</td>\n      <td>0.013917</td>\n      <td>1837.897807</td>\n      <td>0.25</td>\n      <td>True</td>\n    </tr>\n    <tr>\n      <th>4</th>\n      <td>Fc2.</td>\n      <td>0.638252</td>\n      <td>0.153374</td>\n      <td>0.070831</td>\n      <td>0.061820</td>\n      <td>0.061709</td>\n      <td>0.014013</td>\n      <td>1706.774518</td>\n      <td>0.25</td>\n      <td>True</td>\n    </tr>\n    <tr>\n      <th>...</th>\n      <td>...</td>\n      <td>...</td>\n      <td>...</td>\n      <td>...</td>\n      <td>...</td>\n      <td>...</td>\n      <td>...</td>\n      <td>...</td>\n      <td>...</td>\n      <td>...</td>\n    </tr>\n    <tr>\n      <th>59</th>\n      <td>Po8.</td>\n      <td>0.611308</td>\n      <td>0.128695</td>\n      <td>0.089872</td>\n      <td>0.074769</td>\n      <td>0.075307</td>\n      <td>0.020049</td>\n      <td>1463.046097</td>\n      <td>0.25</td>\n      <td>True</td>\n    </tr>\n    <tr>\n      <th>60</th>\n      <td>O1..</td>\n      <td>0.551645</td>\n      <td>0.133374</td>\n      <td>0.107755</td>\n      <td>0.091970</td>\n      <td>0.102906</td>\n      <td>0.012351</td>\n      <td>1852.322341</td>\n      <td>0.25</td>\n      <td>True</td>\n    </tr>\n    <tr>\n      <th>61</th>\n      <td>Oz..</td>\n      <td>0.590588</td>\n      <td>0.124811</td>\n      <td>0.089765</td>\n      <td>0.078538</td>\n      <td>0.100867</td>\n      <td>0.015432</td>\n      <td>1840.485750</td>\n      <td>0.25</td>\n      <td>True</td>\n    </tr>\n    <tr>\n      <th>62</th>\n      <td>O2..</td>\n      <td>0.616492</td>\n      <td>0.120480</td>\n      <td>0.085481</td>\n      <td>0.067933</td>\n      <td>0.093260</td>\n      <td>0.016354</td>\n      <td>1992.397458</td>\n      <td>0.25</td>\n      <td>True</td>\n    </tr>\n    <tr>\n      <th>63</th>\n      <td>Iz..</td>\n      <td>0.518119</td>\n      <td>0.134041</td>\n      <td>0.100395</td>\n      <td>0.080367</td>\n      <td>0.134792</td>\n      <td>0.032286</td>\n      <td>1728.998201</td>\n      <td>0.25</td>\n      <td>True</td>\n    </tr>\n  </tbody>\n</table>\n<p>64 rows × 10 columns</p>\n</div>"
          },
          "metadata": {},
          "execution_count": 8
        }
      ]
    },
    {
      "cell_type": "code",
      "execution_count": 9,
      "metadata": {},
      "outputs": [
        {
          "output_type": "execute_result",
          "data": {
            "text/plain": [
              "    Chan        Delta       Theta       Alpha       Sigma        Beta  \\\n",
              "0   Fc5.   729.083449  251.593684  108.977588   95.155092  115.646269   \n",
              "1   Fc3.   880.530178  296.200884  140.030286  126.106843  120.418670   \n",
              "2   Fc1.   988.252429  309.703739  151.555804  118.386149  116.968244   \n",
              "3   Fcz.  1150.341449  295.031470  134.289831  109.004222  123.652382   \n",
              "4   Fc2.  1089.352459  261.774983  120.893042  105.512753  105.323430   \n",
              "..   ...          ...         ...         ...         ...         ...   \n",
              "59  Po8.   894.372006  188.287211  131.487208  109.390743  110.176915   \n",
              "60  O1..  1021.823602  247.050760  199.597288  170.357692  190.614198   \n",
              "61  Oz..  1086.968179  229.712791  165.211522  144.547493  185.643865   \n",
              "62  O2..  1228.297022  240.044884  170.311805  135.349890  185.810987   \n",
              "63  Iz..   895.827385  231.756621  173.582004  138.955198  233.054949   \n",
              "\n",
              "        Gamma  TotalAbsPow  FreqRes  Relative  \n",
              "0   33.104056  1333.560137     0.25     False  \n",
              "1   27.895661  1591.182522     0.25     False  \n",
              "2   26.943906  1711.810271     0.25     False  \n",
              "3   25.578453  1837.897807     0.25     False  \n",
              "4   23.917851  1706.774518     0.25     False  \n",
              "..        ...          ...      ...       ...  \n",
              "59  29.332015  1463.046097     0.25     False  \n",
              "60  22.878800  1852.322341     0.25     False  \n",
              "61  28.401902  1840.485750     0.25     False  \n",
              "62  32.582869  1992.397458     0.25     False  \n",
              "63  55.822044  1728.998201     0.25     False  \n",
              "\n",
              "[64 rows x 10 columns]"
            ],
            "text/html": "<div>\n<style scoped>\n    .dataframe tbody tr th:only-of-type {\n        vertical-align: middle;\n    }\n\n    .dataframe tbody tr th {\n        vertical-align: top;\n    }\n\n    .dataframe thead th {\n        text-align: right;\n    }\n</style>\n<table border=\"1\" class=\"dataframe\">\n  <thead>\n    <tr style=\"text-align: right;\">\n      <th></th>\n      <th>Chan</th>\n      <th>Delta</th>\n      <th>Theta</th>\n      <th>Alpha</th>\n      <th>Sigma</th>\n      <th>Beta</th>\n      <th>Gamma</th>\n      <th>TotalAbsPow</th>\n      <th>FreqRes</th>\n      <th>Relative</th>\n    </tr>\n  </thead>\n  <tbody>\n    <tr>\n      <th>0</th>\n      <td>Fc5.</td>\n      <td>729.083449</td>\n      <td>251.593684</td>\n      <td>108.977588</td>\n      <td>95.155092</td>\n      <td>115.646269</td>\n      <td>33.104056</td>\n      <td>1333.560137</td>\n      <td>0.25</td>\n      <td>False</td>\n    </tr>\n    <tr>\n      <th>1</th>\n      <td>Fc3.</td>\n      <td>880.530178</td>\n      <td>296.200884</td>\n      <td>140.030286</td>\n      <td>126.106843</td>\n      <td>120.418670</td>\n      <td>27.895661</td>\n      <td>1591.182522</td>\n      <td>0.25</td>\n      <td>False</td>\n    </tr>\n    <tr>\n      <th>2</th>\n      <td>Fc1.</td>\n      <td>988.252429</td>\n      <td>309.703739</td>\n      <td>151.555804</td>\n      <td>118.386149</td>\n      <td>116.968244</td>\n      <td>26.943906</td>\n      <td>1711.810271</td>\n      <td>0.25</td>\n      <td>False</td>\n    </tr>\n    <tr>\n      <th>3</th>\n      <td>Fcz.</td>\n      <td>1150.341449</td>\n      <td>295.031470</td>\n      <td>134.289831</td>\n      <td>109.004222</td>\n      <td>123.652382</td>\n      <td>25.578453</td>\n      <td>1837.897807</td>\n      <td>0.25</td>\n      <td>False</td>\n    </tr>\n    <tr>\n      <th>4</th>\n      <td>Fc2.</td>\n      <td>1089.352459</td>\n      <td>261.774983</td>\n      <td>120.893042</td>\n      <td>105.512753</td>\n      <td>105.323430</td>\n      <td>23.917851</td>\n      <td>1706.774518</td>\n      <td>0.25</td>\n      <td>False</td>\n    </tr>\n    <tr>\n      <th>...</th>\n      <td>...</td>\n      <td>...</td>\n      <td>...</td>\n      <td>...</td>\n      <td>...</td>\n      <td>...</td>\n      <td>...</td>\n      <td>...</td>\n      <td>...</td>\n      <td>...</td>\n    </tr>\n    <tr>\n      <th>59</th>\n      <td>Po8.</td>\n      <td>894.372006</td>\n      <td>188.287211</td>\n      <td>131.487208</td>\n      <td>109.390743</td>\n      <td>110.176915</td>\n      <td>29.332015</td>\n      <td>1463.046097</td>\n      <td>0.25</td>\n      <td>False</td>\n    </tr>\n    <tr>\n      <th>60</th>\n      <td>O1..</td>\n      <td>1021.823602</td>\n      <td>247.050760</td>\n      <td>199.597288</td>\n      <td>170.357692</td>\n      <td>190.614198</td>\n      <td>22.878800</td>\n      <td>1852.322341</td>\n      <td>0.25</td>\n      <td>False</td>\n    </tr>\n    <tr>\n      <th>61</th>\n      <td>Oz..</td>\n      <td>1086.968179</td>\n      <td>229.712791</td>\n      <td>165.211522</td>\n      <td>144.547493</td>\n      <td>185.643865</td>\n      <td>28.401902</td>\n      <td>1840.485750</td>\n      <td>0.25</td>\n      <td>False</td>\n    </tr>\n    <tr>\n      <th>62</th>\n      <td>O2..</td>\n      <td>1228.297022</td>\n      <td>240.044884</td>\n      <td>170.311805</td>\n      <td>135.349890</td>\n      <td>185.810987</td>\n      <td>32.582869</td>\n      <td>1992.397458</td>\n      <td>0.25</td>\n      <td>False</td>\n    </tr>\n    <tr>\n      <th>63</th>\n      <td>Iz..</td>\n      <td>895.827385</td>\n      <td>231.756621</td>\n      <td>173.582004</td>\n      <td>138.955198</td>\n      <td>233.054949</td>\n      <td>55.822044</td>\n      <td>1728.998201</td>\n      <td>0.25</td>\n      <td>False</td>\n    </tr>\n  </tbody>\n</table>\n<p>64 rows × 10 columns</p>\n</div>"
          },
          "metadata": {},
          "execution_count": 9
        }
      ],
      "source": [
        "yasa.bandpower_from_psd(psd, freqs, ch_names=chan,relative=False)"
      ]
    },
    {
      "source": [
        "## 4.2 Calculate band powers from raw data (relative and absolute)"
      ],
      "cell_type": "markdown",
      "metadata": {}
    },
    {
      "cell_type": "code",
      "execution_count": 10,
      "metadata": {},
      "outputs": [
        {
          "output_type": "execute_result",
          "data": {
            "text/plain": [
              "         Delta     Theta     Alpha     Sigma      Beta     Gamma  TotalAbsPow  \\\n",
              "Chan                                                                            \n",
              "Fc5.  0.548339  0.188002  0.085510  0.069651  0.084315  0.024183  1356.084169   \n",
              "Fc3.  0.569570  0.174826  0.087572  0.076244  0.074501  0.017287  1627.558176   \n",
              "Fc1.  0.581620  0.177363  0.086579  0.070425  0.068284  0.015729  1695.851253   \n",
              "Fcz.  0.611424  0.169222  0.074378  0.062707  0.068008  0.014262  1821.866101   \n",
              "Fc2.  0.634056  0.153610  0.074786  0.061335  0.061986  0.014227  1689.180796   \n",
              "...        ...       ...       ...       ...       ...       ...          ...   \n",
              "Po8.  0.611426  0.127151  0.089966  0.074720  0.076852  0.019886  1461.909318   \n",
              "O1..  0.555521  0.130322  0.107836  0.090734  0.103069  0.012518  1858.856100   \n",
              "Oz..  0.588168  0.122236  0.092429  0.078167  0.103260  0.015741  1828.575233   \n",
              "O2..  0.617893  0.118152  0.085242  0.068090  0.093996  0.016627  2017.668395   \n",
              "Iz..  0.517579  0.133765  0.101682  0.081009  0.133400  0.032564  1728.198818   \n",
              "\n",
              "      FreqRes  Relative  \n",
              "Chan                     \n",
              "Fc5.     0.25      True  \n",
              "Fc3.     0.25      True  \n",
              "Fc1.     0.25      True  \n",
              "Fcz.     0.25      True  \n",
              "Fc2.     0.25      True  \n",
              "...       ...       ...  \n",
              "Po8.     0.25      True  \n",
              "O1..     0.25      True  \n",
              "Oz..     0.25      True  \n",
              "O2..     0.25      True  \n",
              "Iz..     0.25      True  \n",
              "\n",
              "[64 rows x 9 columns]"
            ],
            "text/html": "<div>\n<style scoped>\n    .dataframe tbody tr th:only-of-type {\n        vertical-align: middle;\n    }\n\n    .dataframe tbody tr th {\n        vertical-align: top;\n    }\n\n    .dataframe thead th {\n        text-align: right;\n    }\n</style>\n<table border=\"1\" class=\"dataframe\">\n  <thead>\n    <tr style=\"text-align: right;\">\n      <th></th>\n      <th>Delta</th>\n      <th>Theta</th>\n      <th>Alpha</th>\n      <th>Sigma</th>\n      <th>Beta</th>\n      <th>Gamma</th>\n      <th>TotalAbsPow</th>\n      <th>FreqRes</th>\n      <th>Relative</th>\n    </tr>\n    <tr>\n      <th>Chan</th>\n      <th></th>\n      <th></th>\n      <th></th>\n      <th></th>\n      <th></th>\n      <th></th>\n      <th></th>\n      <th></th>\n      <th></th>\n    </tr>\n  </thead>\n  <tbody>\n    <tr>\n      <th>Fc5.</th>\n      <td>0.548339</td>\n      <td>0.188002</td>\n      <td>0.085510</td>\n      <td>0.069651</td>\n      <td>0.084315</td>\n      <td>0.024183</td>\n      <td>1356.084169</td>\n      <td>0.25</td>\n      <td>True</td>\n    </tr>\n    <tr>\n      <th>Fc3.</th>\n      <td>0.569570</td>\n      <td>0.174826</td>\n      <td>0.087572</td>\n      <td>0.076244</td>\n      <td>0.074501</td>\n      <td>0.017287</td>\n      <td>1627.558176</td>\n      <td>0.25</td>\n      <td>True</td>\n    </tr>\n    <tr>\n      <th>Fc1.</th>\n      <td>0.581620</td>\n      <td>0.177363</td>\n      <td>0.086579</td>\n      <td>0.070425</td>\n      <td>0.068284</td>\n      <td>0.015729</td>\n      <td>1695.851253</td>\n      <td>0.25</td>\n      <td>True</td>\n    </tr>\n    <tr>\n      <th>Fcz.</th>\n      <td>0.611424</td>\n      <td>0.169222</td>\n      <td>0.074378</td>\n      <td>0.062707</td>\n      <td>0.068008</td>\n      <td>0.014262</td>\n      <td>1821.866101</td>\n      <td>0.25</td>\n      <td>True</td>\n    </tr>\n    <tr>\n      <th>Fc2.</th>\n      <td>0.634056</td>\n      <td>0.153610</td>\n      <td>0.074786</td>\n      <td>0.061335</td>\n      <td>0.061986</td>\n      <td>0.014227</td>\n      <td>1689.180796</td>\n      <td>0.25</td>\n      <td>True</td>\n    </tr>\n    <tr>\n      <th>...</th>\n      <td>...</td>\n      <td>...</td>\n      <td>...</td>\n      <td>...</td>\n      <td>...</td>\n      <td>...</td>\n      <td>...</td>\n      <td>...</td>\n      <td>...</td>\n    </tr>\n    <tr>\n      <th>Po8.</th>\n      <td>0.611426</td>\n      <td>0.127151</td>\n      <td>0.089966</td>\n      <td>0.074720</td>\n      <td>0.076852</td>\n      <td>0.019886</td>\n      <td>1461.909318</td>\n      <td>0.25</td>\n      <td>True</td>\n    </tr>\n    <tr>\n      <th>O1..</th>\n      <td>0.555521</td>\n      <td>0.130322</td>\n      <td>0.107836</td>\n      <td>0.090734</td>\n      <td>0.103069</td>\n      <td>0.012518</td>\n      <td>1858.856100</td>\n      <td>0.25</td>\n      <td>True</td>\n    </tr>\n    <tr>\n      <th>Oz..</th>\n      <td>0.588168</td>\n      <td>0.122236</td>\n      <td>0.092429</td>\n      <td>0.078167</td>\n      <td>0.103260</td>\n      <td>0.015741</td>\n      <td>1828.575233</td>\n      <td>0.25</td>\n      <td>True</td>\n    </tr>\n    <tr>\n      <th>O2..</th>\n      <td>0.617893</td>\n      <td>0.118152</td>\n      <td>0.085242</td>\n      <td>0.068090</td>\n      <td>0.093996</td>\n      <td>0.016627</td>\n      <td>2017.668395</td>\n      <td>0.25</td>\n      <td>True</td>\n    </tr>\n    <tr>\n      <th>Iz..</th>\n      <td>0.517579</td>\n      <td>0.133765</td>\n      <td>0.101682</td>\n      <td>0.081009</td>\n      <td>0.133400</td>\n      <td>0.032564</td>\n      <td>1728.198818</td>\n      <td>0.25</td>\n      <td>True</td>\n    </tr>\n  </tbody>\n</table>\n<p>64 rows × 9 columns</p>\n</div>"
          },
          "metadata": {},
          "execution_count": 10
        }
      ],
      "source": [
        "# Relative bandpower per channel on the whole recording (entire data)\n",
        "yasa.bandpower(raw, sf=sf, ch_names=chan)"
      ]
    },
    {
      "cell_type": "code",
      "execution_count": 11,
      "metadata": {},
      "outputs": [
        {
          "output_type": "execute_result",
          "data": {
            "text/plain": [
              "            Delta       Theta       Alpha       Sigma        Beta      Gamma  \\\n",
              "Chan                                                                           \n",
              "Fc5.   743.594341  254.945948  115.958546   94.453281  114.337948  32.794104   \n",
              "Fc3.   927.008354  284.540254  142.528072  124.091109  121.254069  28.136317   \n",
              "Fc1.   986.341575  300.781044  146.824816  119.430047  115.800208  26.673562   \n",
              "Fcz.  1113.932683  308.299800  135.506160  114.242997  123.900846  25.983616   \n",
              "Fc2.  1071.034496  259.475381  126.327908  103.606599  104.704983  24.031429   \n",
              "...           ...         ...         ...         ...         ...        ...   \n",
              "Po8.   893.849195  185.882762  131.521556  109.234149  112.350669  29.070987   \n",
              "O1..  1032.634114  242.250511  200.450749  168.661942  191.589984  23.268800   \n",
              "Oz..  1075.508674  223.517801  169.012913  142.934222  188.818328  28.783294   \n",
              "O2..  1246.703368  238.391781  171.990011  137.383224  189.652426  33.547585   \n",
              "Iz..   894.479945  231.173025  175.726501  140.000437  230.541963  56.276947   \n",
              "\n",
              "      TotalAbsPow  FreqRes  Relative  \n",
              "Chan                                  \n",
              "Fc5.  1356.084169     0.25     False  \n",
              "Fc3.  1627.558176     0.25     False  \n",
              "Fc1.  1695.851253     0.25     False  \n",
              "Fcz.  1821.866101     0.25     False  \n",
              "Fc2.  1689.180796     0.25     False  \n",
              "...           ...      ...       ...  \n",
              "Po8.  1461.909318     0.25     False  \n",
              "O1..  1858.856100     0.25     False  \n",
              "Oz..  1828.575233     0.25     False  \n",
              "O2..  2017.668395     0.25     False  \n",
              "Iz..  1728.198818     0.25     False  \n",
              "\n",
              "[64 rows x 9 columns]"
            ],
            "text/html": "<div>\n<style scoped>\n    .dataframe tbody tr th:only-of-type {\n        vertical-align: middle;\n    }\n\n    .dataframe tbody tr th {\n        vertical-align: top;\n    }\n\n    .dataframe thead th {\n        text-align: right;\n    }\n</style>\n<table border=\"1\" class=\"dataframe\">\n  <thead>\n    <tr style=\"text-align: right;\">\n      <th></th>\n      <th>Delta</th>\n      <th>Theta</th>\n      <th>Alpha</th>\n      <th>Sigma</th>\n      <th>Beta</th>\n      <th>Gamma</th>\n      <th>TotalAbsPow</th>\n      <th>FreqRes</th>\n      <th>Relative</th>\n    </tr>\n    <tr>\n      <th>Chan</th>\n      <th></th>\n      <th></th>\n      <th></th>\n      <th></th>\n      <th></th>\n      <th></th>\n      <th></th>\n      <th></th>\n      <th></th>\n    </tr>\n  </thead>\n  <tbody>\n    <tr>\n      <th>Fc5.</th>\n      <td>743.594341</td>\n      <td>254.945948</td>\n      <td>115.958546</td>\n      <td>94.453281</td>\n      <td>114.337948</td>\n      <td>32.794104</td>\n      <td>1356.084169</td>\n      <td>0.25</td>\n      <td>False</td>\n    </tr>\n    <tr>\n      <th>Fc3.</th>\n      <td>927.008354</td>\n      <td>284.540254</td>\n      <td>142.528072</td>\n      <td>124.091109</td>\n      <td>121.254069</td>\n      <td>28.136317</td>\n      <td>1627.558176</td>\n      <td>0.25</td>\n      <td>False</td>\n    </tr>\n    <tr>\n      <th>Fc1.</th>\n      <td>986.341575</td>\n      <td>300.781044</td>\n      <td>146.824816</td>\n      <td>119.430047</td>\n      <td>115.800208</td>\n      <td>26.673562</td>\n      <td>1695.851253</td>\n      <td>0.25</td>\n      <td>False</td>\n    </tr>\n    <tr>\n      <th>Fcz.</th>\n      <td>1113.932683</td>\n      <td>308.299800</td>\n      <td>135.506160</td>\n      <td>114.242997</td>\n      <td>123.900846</td>\n      <td>25.983616</td>\n      <td>1821.866101</td>\n      <td>0.25</td>\n      <td>False</td>\n    </tr>\n    <tr>\n      <th>Fc2.</th>\n      <td>1071.034496</td>\n      <td>259.475381</td>\n      <td>126.327908</td>\n      <td>103.606599</td>\n      <td>104.704983</td>\n      <td>24.031429</td>\n      <td>1689.180796</td>\n      <td>0.25</td>\n      <td>False</td>\n    </tr>\n    <tr>\n      <th>...</th>\n      <td>...</td>\n      <td>...</td>\n      <td>...</td>\n      <td>...</td>\n      <td>...</td>\n      <td>...</td>\n      <td>...</td>\n      <td>...</td>\n      <td>...</td>\n    </tr>\n    <tr>\n      <th>Po8.</th>\n      <td>893.849195</td>\n      <td>185.882762</td>\n      <td>131.521556</td>\n      <td>109.234149</td>\n      <td>112.350669</td>\n      <td>29.070987</td>\n      <td>1461.909318</td>\n      <td>0.25</td>\n      <td>False</td>\n    </tr>\n    <tr>\n      <th>O1..</th>\n      <td>1032.634114</td>\n      <td>242.250511</td>\n      <td>200.450749</td>\n      <td>168.661942</td>\n      <td>191.589984</td>\n      <td>23.268800</td>\n      <td>1858.856100</td>\n      <td>0.25</td>\n      <td>False</td>\n    </tr>\n    <tr>\n      <th>Oz..</th>\n      <td>1075.508674</td>\n      <td>223.517801</td>\n      <td>169.012913</td>\n      <td>142.934222</td>\n      <td>188.818328</td>\n      <td>28.783294</td>\n      <td>1828.575233</td>\n      <td>0.25</td>\n      <td>False</td>\n    </tr>\n    <tr>\n      <th>O2..</th>\n      <td>1246.703368</td>\n      <td>238.391781</td>\n      <td>171.990011</td>\n      <td>137.383224</td>\n      <td>189.652426</td>\n      <td>33.547585</td>\n      <td>2017.668395</td>\n      <td>0.25</td>\n      <td>False</td>\n    </tr>\n    <tr>\n      <th>Iz..</th>\n      <td>894.479945</td>\n      <td>231.173025</td>\n      <td>175.726501</td>\n      <td>140.000437</td>\n      <td>230.541963</td>\n      <td>56.276947</td>\n      <td>1728.198818</td>\n      <td>0.25</td>\n      <td>False</td>\n    </tr>\n  </tbody>\n</table>\n<p>64 rows × 9 columns</p>\n</div>"
          },
          "metadata": {},
          "execution_count": 11
        }
      ],
      "source": [
        "yasa.bandpower(raw,relative=False)"
      ]
    },
    {
      "source": [
        "### 4.3 There are slight differences between the results calculated from PSD and the raw data. I think it may be because of a tiny loss from the PSD calculation process, since the plot cannot be as concrete as the raw data. <br> </br> Also, the results obtained from different approaches (e.g. the welch approach and the Multitaper approach) may result in similar but not identical results. "
      ],
      "cell_type": "markdown",
      "metadata": {}
    },
    {
      "source": [
        "## 5. Calculate band powers from Matlab (eeglab)"
      ],
      "cell_type": "markdown",
      "metadata": {}
    },
    {
      "source": [
        "### 5.1 Find the PSD of the i-th signal, 9760 is the length of data"
      ],
      "cell_type": "markdown",
      "metadata": {}
    },
    {
      "source": [
        "```\n",
        "[spectra,freqs] = spectopo(EEG.data(i,:,:), 9760, EEG.srate)\n",
        "```"
      ],
      "cell_type": "markdown",
      "metadata": {}
    },
    {
      "source": [
        "### 5.2 Define the range of each band, same as before"
      ],
      "cell_type": "markdown",
      "metadata": {}
    },
    {
      "source": [
        "```\n",
        "deltaIdx = find(freqs>0.5 & freqs<4);\n",
        "thetaIdx = find(freqs>4 & freqs<8);\n",
        "alphaIdx = find(freqs>8 & freqs<12);\n",
        "sigmaIdx = find(freqs>12 & freqs<16);\n",
        "betaIdx  = find(freqs>16 & freqs<30);\n",
        "gammaIdx = find(freqs>30 & freqs<40); \n",
        "```"
      ],
      "cell_type": "markdown",
      "metadata": {}
    },
    {
      "source": [
        "### 5.3 The function of calculating band power from eeglab"
      ],
      "cell_type": "markdown",
      "metadata": {}
    },
    {
      "source": [
        "```\n",
        "deltaPower = mean(10.^(spectra(deltaIdx)/10));\n",
        "thetaPower = mean(10.^(spectra(thetaIdx)/10));\n",
        "alphaPower = mean(10.^(spectra(alphaIdx)/10));\n",
        "sigmaPower = mean(10.^(spectra(sigmaIdx)/10));\n",
        "betaPower  = mean(10.^(spectra(betaIdx)/10));\n",
        "gammaPower = mean(10.^(spectra(gammaIdx)/10));\n",
        "```"
      ],
      "cell_type": "markdown",
      "metadata": {}
    },
    {
      "source": [
        "### 5.4 Display Results "
      ],
      "cell_type": "markdown",
      "metadata": {}
    },
    {
      "cell_type": "code",
      "execution_count": 36,
      "metadata": {},
      "outputs": [
        {
          "output_type": "execute_result",
          "data": {
            "text/plain": [
              "         Delta      Theta      Alpha      Sigma       Beta     Gamma\n",
              "0   406.566768  63.870613  25.694729  21.686916   7.993780  3.273779\n",
              "1   403.217832  74.586141  28.853016  26.432134   8.383048  2.701803\n",
              "2   417.797976  80.677422  27.029659  25.151542   8.330458  2.489914\n",
              "3   402.369663  84.618613  26.406469  26.478589   8.489373  2.411848\n",
              "4   397.411402  72.139138  24.121785  26.030127   7.562521  2.276452\n",
              "..         ...        ...        ...        ...        ...       ...\n",
              "59  281.572576  39.654170  29.859911  30.463295   8.462207  2.791146\n",
              "60  320.641388  54.802062  42.525765  38.810288  13.473526  2.346743\n",
              "61  325.898590  51.139658  37.262216  34.790947  12.617842  2.798073\n",
              "62  456.382881  54.744618  38.175265  37.230773  13.606381  3.296833\n",
              "63  319.314642  49.876303  37.602395  31.276189  16.268192  5.235330\n",
              "\n",
              "[64 rows x 6 columns]"
            ],
            "text/html": "<div>\n<style scoped>\n    .dataframe tbody tr th:only-of-type {\n        vertical-align: middle;\n    }\n\n    .dataframe tbody tr th {\n        vertical-align: top;\n    }\n\n    .dataframe thead th {\n        text-align: right;\n    }\n</style>\n<table border=\"1\" class=\"dataframe\">\n  <thead>\n    <tr style=\"text-align: right;\">\n      <th></th>\n      <th>Delta</th>\n      <th>Theta</th>\n      <th>Alpha</th>\n      <th>Sigma</th>\n      <th>Beta</th>\n      <th>Gamma</th>\n    </tr>\n  </thead>\n  <tbody>\n    <tr>\n      <th>0</th>\n      <td>406.566768</td>\n      <td>63.870613</td>\n      <td>25.694729</td>\n      <td>21.686916</td>\n      <td>7.993780</td>\n      <td>3.273779</td>\n    </tr>\n    <tr>\n      <th>1</th>\n      <td>403.217832</td>\n      <td>74.586141</td>\n      <td>28.853016</td>\n      <td>26.432134</td>\n      <td>8.383048</td>\n      <td>2.701803</td>\n    </tr>\n    <tr>\n      <th>2</th>\n      <td>417.797976</td>\n      <td>80.677422</td>\n      <td>27.029659</td>\n      <td>25.151542</td>\n      <td>8.330458</td>\n      <td>2.489914</td>\n    </tr>\n    <tr>\n      <th>3</th>\n      <td>402.369663</td>\n      <td>84.618613</td>\n      <td>26.406469</td>\n      <td>26.478589</td>\n      <td>8.489373</td>\n      <td>2.411848</td>\n    </tr>\n    <tr>\n      <th>4</th>\n      <td>397.411402</td>\n      <td>72.139138</td>\n      <td>24.121785</td>\n      <td>26.030127</td>\n      <td>7.562521</td>\n      <td>2.276452</td>\n    </tr>\n    <tr>\n      <th>...</th>\n      <td>...</td>\n      <td>...</td>\n      <td>...</td>\n      <td>...</td>\n      <td>...</td>\n      <td>...</td>\n    </tr>\n    <tr>\n      <th>59</th>\n      <td>281.572576</td>\n      <td>39.654170</td>\n      <td>29.859911</td>\n      <td>30.463295</td>\n      <td>8.462207</td>\n      <td>2.791146</td>\n    </tr>\n    <tr>\n      <th>60</th>\n      <td>320.641388</td>\n      <td>54.802062</td>\n      <td>42.525765</td>\n      <td>38.810288</td>\n      <td>13.473526</td>\n      <td>2.346743</td>\n    </tr>\n    <tr>\n      <th>61</th>\n      <td>325.898590</td>\n      <td>51.139658</td>\n      <td>37.262216</td>\n      <td>34.790947</td>\n      <td>12.617842</td>\n      <td>2.798073</td>\n    </tr>\n    <tr>\n      <th>62</th>\n      <td>456.382881</td>\n      <td>54.744618</td>\n      <td>38.175265</td>\n      <td>37.230773</td>\n      <td>13.606381</td>\n      <td>3.296833</td>\n    </tr>\n    <tr>\n      <th>63</th>\n      <td>319.314642</td>\n      <td>49.876303</td>\n      <td>37.602395</td>\n      <td>31.276189</td>\n      <td>16.268192</td>\n      <td>5.235330</td>\n    </tr>\n  </tbody>\n</table>\n<p>64 rows × 6 columns</p>\n</div>"
          },
          "metadata": {},
          "execution_count": 36
        }
      ],
      "source": [
        "import pandas as pd\n",
        "pd.read_csv('data/bandpower_matlab.csv')"
      ]
    },
    {
      "source": [
        "### The results are different from what I obtained before. Many factors could lead to this inconsistency, such as window size, calculatipon function, etc., I am not sure why they are different since I am not an expert in neuroscience. "
      ],
      "cell_type": "markdown",
      "metadata": {}
    },
    {
      "source": [
        "## 6. Anomalies in eeg "
      ],
      "cell_type": "markdown",
      "metadata": {}
    },
    {
      "source": [
        "#### I googled the term \"anomalies in eeg\" and it seems like anomaly detection is a difficult problem which requires a lot of steps including some complex architectures and even some machine learning approaches. It may take me weeks if I really want to do some research and carefully study this field. For this reason, I decide not to do this part for now."
      ],
      "cell_type": "markdown",
      "metadata": {}
    }
  ]
}